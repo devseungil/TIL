{
 "cells": [
  {
   "cell_type": "markdown",
   "id": "493698ce",
   "metadata": {},
   "source": [
    "정답없는경우 데이터로드 - > 전처리 ->  EDA -> 차원축소(PCA) -> 클러스터링 수 결정 ->모델학습 -> 평가\n",
    "\n",
    "예측 정밀도를 평가할수없음 타겟없이 데이터만으로"
   ]
  },
  {
   "cell_type": "code",
   "execution_count": 64,
   "id": "fec5c372",
   "metadata": {},
   "outputs": [],
   "source": [
    "from sklearn.datasets import load_wine\n",
    "import os\n",
    "import numpy as np\n",
    "import pandas as pd\n",
    "from sklearn.model_selection import train_test_split\n",
    "import matplotlib.pyplot as plt"
   ]
  },
  {
   "cell_type": "code",
   "execution_count": 3,
   "id": "4bd15f0a",
   "metadata": {},
   "outputs": [],
   "source": [
    "wine = load_wine()"
   ]
  },
  {
   "cell_type": "code",
   "execution_count": 22,
   "id": "05c07b19",
   "metadata": {},
   "outputs": [
    {
     "name": "stdout",
     "output_type": "stream",
     "text": [
      "<class 'pandas.core.frame.DataFrame'>\n",
      "RangeIndex: 178 entries, 0 to 177\n",
      "Data columns (total 13 columns):\n",
      " #   Column                        Non-Null Count  Dtype  \n",
      "---  ------                        --------------  -----  \n",
      " 0   alcohol                       178 non-null    float64\n",
      " 1   malic_acid                    178 non-null    float64\n",
      " 2   ash                           178 non-null    float64\n",
      " 3   alcalinity_of_ash             178 non-null    float64\n",
      " 4   magnesium                     178 non-null    float64\n",
      " 5   total_phenols                 178 non-null    float64\n",
      " 6   flavanoids                    178 non-null    float64\n",
      " 7   nonflavanoid_phenols          178 non-null    float64\n",
      " 8   proanthocyanins               178 non-null    float64\n",
      " 9   color_intensity               178 non-null    float64\n",
      " 10  hue                           178 non-null    float64\n",
      " 11  od280/od315_of_diluted_wines  178 non-null    float64\n",
      " 12  proline                       178 non-null    float64\n",
      "dtypes: float64(13)\n",
      "memory usage: 18.2 KB\n"
     ]
    }
   ],
   "source": [
    "df_wine = pd.DataFrame(data=wine.data , columns=wine.feature_names)\n",
    "df_wine.info()"
   ]
  },
  {
   "cell_type": "code",
   "execution_count": 11,
   "id": "6baaf39c",
   "metadata": {},
   "outputs": [],
   "source": [
    "train , test = train_test_split(df_wine , train_size=0.7 , random_state=0)"
   ]
  },
  {
   "cell_type": "code",
   "execution_count": 15,
   "id": "ea097fb0",
   "metadata": {},
   "outputs": [
    {
     "data": {
      "text/html": [
       "<div>\n",
       "<style scoped>\n",
       "    .dataframe tbody tr th:only-of-type {\n",
       "        vertical-align: middle;\n",
       "    }\n",
       "\n",
       "    .dataframe tbody tr th {\n",
       "        vertical-align: top;\n",
       "    }\n",
       "\n",
       "    .dataframe thead th {\n",
       "        text-align: right;\n",
       "    }\n",
       "</style>\n",
       "<table border=\"1\" class=\"dataframe\">\n",
       "  <thead>\n",
       "    <tr style=\"text-align: right;\">\n",
       "      <th></th>\n",
       "      <th>alcohol</th>\n",
       "      <th>malic_acid</th>\n",
       "      <th>ash</th>\n",
       "      <th>alcalinity_of_ash</th>\n",
       "      <th>magnesium</th>\n",
       "      <th>total_phenols</th>\n",
       "      <th>flavanoids</th>\n",
       "      <th>nonflavanoid_phenols</th>\n",
       "      <th>proanthocyanins</th>\n",
       "      <th>color_intensity</th>\n",
       "      <th>hue</th>\n",
       "      <th>od280/od315_of_diluted_wines</th>\n",
       "      <th>proline</th>\n",
       "    </tr>\n",
       "  </thead>\n",
       "  <tbody>\n",
       "    <tr>\n",
       "      <th>count</th>\n",
       "      <td>124.000000</td>\n",
       "      <td>124.000000</td>\n",
       "      <td>124.000000</td>\n",
       "      <td>124.000000</td>\n",
       "      <td>124.000000</td>\n",
       "      <td>124.000000</td>\n",
       "      <td>124.000000</td>\n",
       "      <td>124.000000</td>\n",
       "      <td>124.000000</td>\n",
       "      <td>124.000000</td>\n",
       "      <td>124.000000</td>\n",
       "      <td>124.000000</td>\n",
       "      <td>124.000000</td>\n",
       "    </tr>\n",
       "    <tr>\n",
       "      <th>mean</th>\n",
       "      <td>12.983065</td>\n",
       "      <td>2.383710</td>\n",
       "      <td>2.363145</td>\n",
       "      <td>19.525806</td>\n",
       "      <td>100.088710</td>\n",
       "      <td>2.258387</td>\n",
       "      <td>1.969516</td>\n",
       "      <td>0.364274</td>\n",
       "      <td>1.612500</td>\n",
       "      <td>4.999919</td>\n",
       "      <td>0.955855</td>\n",
       "      <td>2.601935</td>\n",
       "      <td>746.766129</td>\n",
       "    </tr>\n",
       "    <tr>\n",
       "      <th>std</th>\n",
       "      <td>0.801340</td>\n",
       "      <td>1.136696</td>\n",
       "      <td>0.276377</td>\n",
       "      <td>3.579569</td>\n",
       "      <td>14.659281</td>\n",
       "      <td>0.600198</td>\n",
       "      <td>0.977046</td>\n",
       "      <td>0.124235</td>\n",
       "      <td>0.598242</td>\n",
       "      <td>2.351321</td>\n",
       "      <td>0.235548</td>\n",
       "      <td>0.722256</td>\n",
       "      <td>308.858167</td>\n",
       "    </tr>\n",
       "    <tr>\n",
       "      <th>min</th>\n",
       "      <td>11.030000</td>\n",
       "      <td>0.890000</td>\n",
       "      <td>1.360000</td>\n",
       "      <td>10.600000</td>\n",
       "      <td>70.000000</td>\n",
       "      <td>1.100000</td>\n",
       "      <td>0.470000</td>\n",
       "      <td>0.140000</td>\n",
       "      <td>0.420000</td>\n",
       "      <td>1.280000</td>\n",
       "      <td>0.540000</td>\n",
       "      <td>1.270000</td>\n",
       "      <td>312.000000</td>\n",
       "    </tr>\n",
       "    <tr>\n",
       "      <th>25%</th>\n",
       "      <td>12.362500</td>\n",
       "      <td>1.607500</td>\n",
       "      <td>2.225000</td>\n",
       "      <td>17.075000</td>\n",
       "      <td>89.000000</td>\n",
       "      <td>1.735000</td>\n",
       "      <td>1.072500</td>\n",
       "      <td>0.270000</td>\n",
       "      <td>1.247500</td>\n",
       "      <td>3.050000</td>\n",
       "      <td>0.780000</td>\n",
       "      <td>1.905000</td>\n",
       "      <td>510.000000</td>\n",
       "    </tr>\n",
       "    <tr>\n",
       "      <th>50%</th>\n",
       "      <td>13.040000</td>\n",
       "      <td>1.885000</td>\n",
       "      <td>2.360000</td>\n",
       "      <td>19.450000</td>\n",
       "      <td>98.000000</td>\n",
       "      <td>2.200000</td>\n",
       "      <td>2.065000</td>\n",
       "      <td>0.340000</td>\n",
       "      <td>1.555000</td>\n",
       "      <td>4.550000</td>\n",
       "      <td>0.960000</td>\n",
       "      <td>2.780000</td>\n",
       "      <td>667.500000</td>\n",
       "    </tr>\n",
       "    <tr>\n",
       "      <th>75%</th>\n",
       "      <td>13.640000</td>\n",
       "      <td>3.247500</td>\n",
       "      <td>2.565000</td>\n",
       "      <td>21.700000</td>\n",
       "      <td>106.250000</td>\n",
       "      <td>2.705000</td>\n",
       "      <td>2.767500</td>\n",
       "      <td>0.450000</td>\n",
       "      <td>1.952500</td>\n",
       "      <td>6.375000</td>\n",
       "      <td>1.120000</td>\n",
       "      <td>3.170000</td>\n",
       "      <td>986.250000</td>\n",
       "    </tr>\n",
       "    <tr>\n",
       "      <th>max</th>\n",
       "      <td>14.750000</td>\n",
       "      <td>5.650000</td>\n",
       "      <td>3.220000</td>\n",
       "      <td>30.000000</td>\n",
       "      <td>162.000000</td>\n",
       "      <td>3.880000</td>\n",
       "      <td>3.740000</td>\n",
       "      <td>0.660000</td>\n",
       "      <td>3.580000</td>\n",
       "      <td>11.750000</td>\n",
       "      <td>1.710000</td>\n",
       "      <td>4.000000</td>\n",
       "      <td>1547.000000</td>\n",
       "    </tr>\n",
       "  </tbody>\n",
       "</table>\n",
       "</div>"
      ],
      "text/plain": [
       "          alcohol  malic_acid         ash  alcalinity_of_ash   magnesium  \\\n",
       "count  124.000000  124.000000  124.000000         124.000000  124.000000   \n",
       "mean    12.983065    2.383710    2.363145          19.525806  100.088710   \n",
       "std      0.801340    1.136696    0.276377           3.579569   14.659281   \n",
       "min     11.030000    0.890000    1.360000          10.600000   70.000000   \n",
       "25%     12.362500    1.607500    2.225000          17.075000   89.000000   \n",
       "50%     13.040000    1.885000    2.360000          19.450000   98.000000   \n",
       "75%     13.640000    3.247500    2.565000          21.700000  106.250000   \n",
       "max     14.750000    5.650000    3.220000          30.000000  162.000000   \n",
       "\n",
       "       total_phenols  flavanoids  nonflavanoid_phenols  proanthocyanins  \\\n",
       "count     124.000000  124.000000            124.000000       124.000000   \n",
       "mean        2.258387    1.969516              0.364274         1.612500   \n",
       "std         0.600198    0.977046              0.124235         0.598242   \n",
       "min         1.100000    0.470000              0.140000         0.420000   \n",
       "25%         1.735000    1.072500              0.270000         1.247500   \n",
       "50%         2.200000    2.065000              0.340000         1.555000   \n",
       "75%         2.705000    2.767500              0.450000         1.952500   \n",
       "max         3.880000    3.740000              0.660000         3.580000   \n",
       "\n",
       "       color_intensity         hue  od280/od315_of_diluted_wines      proline  \n",
       "count       124.000000  124.000000                    124.000000   124.000000  \n",
       "mean          4.999919    0.955855                      2.601935   746.766129  \n",
       "std           2.351321    0.235548                      0.722256   308.858167  \n",
       "min           1.280000    0.540000                      1.270000   312.000000  \n",
       "25%           3.050000    0.780000                      1.905000   510.000000  \n",
       "50%           4.550000    0.960000                      2.780000   667.500000  \n",
       "75%           6.375000    1.120000                      3.170000   986.250000  \n",
       "max          11.750000    1.710000                      4.000000  1547.000000  "
      ]
     },
     "execution_count": 15,
     "metadata": {},
     "output_type": "execute_result"
    }
   ],
   "source": [
    "train.describe()\n",
    "#alcohol malic_acid 평균값의 스케일이다름 -> 최소최대값도 차이가 큼 스케일링 해줘야함\n",
    "# 이상치가 없다면 정규화하기\n",
    "# 이상치 확인 -> pairplot"
   ]
  },
  {
   "cell_type": "code",
   "execution_count": 32,
   "id": "5a02d16f",
   "metadata": {},
   "outputs": [],
   "source": [
    "import seaborn as sns\n",
    "# sns.pairplot(train)\n",
    "# y값 폭이 크다? => 이상치(돌출값)이 있따 현재는업슴"
   ]
  },
  {
   "cell_type": "code",
   "execution_count": 17,
   "id": "6fc8d1f5",
   "metadata": {},
   "outputs": [],
   "source": [
    "from sklearn.preprocessing import MinMaxScaler"
   ]
  },
  {
   "cell_type": "code",
   "execution_count": 19,
   "id": "3651b2f2",
   "metadata": {},
   "outputs": [],
   "source": [
    "ms = MinMaxScaler().fit(train)"
   ]
  },
  {
   "cell_type": "code",
   "execution_count": 20,
   "id": "44e2ba6b",
   "metadata": {},
   "outputs": [],
   "source": [
    "train_ms = pd.DataFrame(ms.transform(train) , columns=train.columns)"
   ]
  },
  {
   "cell_type": "code",
   "execution_count": 38,
   "id": "733c66b6",
   "metadata": {},
   "outputs": [
    {
     "data": {
      "text/plain": [
       "<seaborn.axisgrid.PairGrid at 0x232ad99e3a0>"
      ]
     },
     "execution_count": 38,
     "metadata": {},
     "output_type": "execute_result"
    }
   ],
   "source": [
    "sns.pairplot(train_ms)"
   ]
  },
  {
   "cell_type": "markdown",
   "id": "caa6c670",
   "metadata": {},
   "source": [
    "차원축소(PCA) : 특징량(X) -> 줄이기 \n",
    "\n",
    "시각화가 쉬워짐 , 클러스터링이 쉽다"
   ]
  },
  {
   "cell_type": "code",
   "execution_count": 24,
   "id": "8697162a",
   "metadata": {},
   "outputs": [],
   "source": [
    "from sklearn.decomposition import PCA"
   ]
  },
  {
   "cell_type": "code",
   "execution_count": 26,
   "id": "edab497c",
   "metadata": {},
   "outputs": [
    {
     "data": {
      "text/plain": [
       "PCA(n_components=2)"
      ]
     },
     "execution_count": 26,
     "metadata": {},
     "output_type": "execute_result"
    }
   ],
   "source": [
    "pca = PCA(n_components=2)\n",
    "pca.fit(train_ms)"
   ]
  },
  {
   "cell_type": "code",
   "execution_count": 29,
   "id": "59ec36fa",
   "metadata": {},
   "outputs": [
    {
     "data": {
      "text/html": [
       "<div>\n",
       "<style scoped>\n",
       "    .dataframe tbody tr th:only-of-type {\n",
       "        vertical-align: middle;\n",
       "    }\n",
       "\n",
       "    .dataframe tbody tr th {\n",
       "        vertical-align: top;\n",
       "    }\n",
       "\n",
       "    .dataframe thead th {\n",
       "        text-align: right;\n",
       "    }\n",
       "</style>\n",
       "<table border=\"1\" class=\"dataframe\">\n",
       "  <thead>\n",
       "    <tr style=\"text-align: right;\">\n",
       "      <th></th>\n",
       "      <th>pca_1</th>\n",
       "      <th>pca_2</th>\n",
       "    </tr>\n",
       "  </thead>\n",
       "  <tbody>\n",
       "    <tr>\n",
       "      <th>0</th>\n",
       "      <td>0.660647</td>\n",
       "      <td>0.001073</td>\n",
       "    </tr>\n",
       "    <tr>\n",
       "      <th>1</th>\n",
       "      <td>0.034471</td>\n",
       "      <td>0.488179</td>\n",
       "    </tr>\n",
       "    <tr>\n",
       "      <th>2</th>\n",
       "      <td>-0.691630</td>\n",
       "      <td>-0.598746</td>\n",
       "    </tr>\n",
       "  </tbody>\n",
       "</table>\n",
       "</div>"
      ],
      "text/plain": [
       "      pca_1     pca_2\n",
       "0  0.660647  0.001073\n",
       "1  0.034471  0.488179\n",
       "2 -0.691630 -0.598746"
      ]
     },
     "execution_count": 29,
     "metadata": {},
     "output_type": "execute_result"
    }
   ],
   "source": [
    "train_2d = pd.DataFrame(pca.transform(train_ms) , columns=['pca_1' , 'pca_2'])\n",
    "train_2d[:3]"
   ]
  },
  {
   "cell_type": "code",
   "execution_count": 37,
   "id": "1b29c4ba",
   "metadata": {},
   "outputs": [
    {
     "data": {
      "text/plain": [
       "<AxesSubplot:xlabel='proline', ylabel='Count'>"
      ]
     },
     "execution_count": 37,
     "metadata": {},
     "output_type": "execute_result"
    }
   ],
   "source": [
    "sns.scatterplot(x='pca_1' , y='pca_2' , data = train_2d)"
   ]
  },
  {
   "cell_type": "code",
   "execution_count": 39,
   "id": "8bb488ff",
   "metadata": {},
   "outputs": [],
   "source": [
    "from sklearn.cluster import KMeans"
   ]
  },
  {
   "cell_type": "code",
   "execution_count": 41,
   "id": "377df703",
   "metadata": {},
   "outputs": [
    {
     "name": "stderr",
     "output_type": "stream",
     "text": [
      "C:\\Users\\User\\anaconda3\\lib\\site-packages\\sklearn\\cluster\\_kmeans.py:1036: UserWarning: KMeans is known to have a memory leak on Windows with MKL, when there are less chunks than available threads. You can avoid it by setting the environment variable OMP_NUM_THREADS=1.\n",
      "  warnings.warn(\n"
     ]
    },
    {
     "data": {
      "image/png": "[encoded data removed]",
      "text/plain": [
       "<Figure size 640x480 with 1 Axes>"
      ]
     },
     "metadata": {},
     "output_type": "display_data"
    }
   ],
   "source": [
    "import matplotlib.pyplot as plt\n",
    "lst_sse = []\n",
    "\n",
    "for i in range(1,11) :\n",
    "    km = KMeans(n_clusters=i , random_state=0)\n",
    "    km.fit(train_2d)\n",
    "    lst_sse.append(km.inertia_) # 클러스터 內 분산, 값이 적을수록 좋다\n",
    "    \n",
    "plt.plot(range(1,11) ,lst_sse, marker = 'o')\n",
    "plt.xlabel('number of cluster')\n",
    "plt.ylabel('sse')\n",
    "plt.show()"
   ]
  },
  {
   "cell_type": "code",
   "execution_count": 42,
   "id": "405fce16",
   "metadata": {},
   "outputs": [],
   "source": [
    "km = KMeans(n_clusters=3 , random_state=0).fit(train_2d)"
   ]
  },
  {
   "cell_type": "code",
   "execution_count": 43,
   "id": "a2779c01",
   "metadata": {},
   "outputs": [],
   "source": [
    "pred_km = km.predict(train_2d)"
   ]
  },
  {
   "cell_type": "code",
   "execution_count": 44,
   "id": "004bfe04",
   "metadata": {},
   "outputs": [],
   "source": [
    "train_2d['label'] = pred_km"
   ]
  },
  {
   "cell_type": "code",
   "execution_count": 46,
   "id": "3e4836d1",
   "metadata": {},
   "outputs": [
    {
     "data": {
      "text/html": [
       "<div>\n",
       "<style scoped>\n",
       "    .dataframe tbody tr th:only-of-type {\n",
       "        vertical-align: middle;\n",
       "    }\n",
       "\n",
       "    .dataframe tbody tr th {\n",
       "        vertical-align: top;\n",
       "    }\n",
       "\n",
       "    .dataframe thead th {\n",
       "        text-align: right;\n",
       "    }\n",
       "</style>\n",
       "<table border=\"1\" class=\"dataframe\">\n",
       "  <thead>\n",
       "    <tr style=\"text-align: right;\">\n",
       "      <th></th>\n",
       "      <th>pca_1</th>\n",
       "      <th>pca_2</th>\n",
       "      <th>label</th>\n",
       "    </tr>\n",
       "  </thead>\n",
       "  <tbody>\n",
       "    <tr>\n",
       "      <th>0</th>\n",
       "      <td>0.660647</td>\n",
       "      <td>0.001073</td>\n",
       "      <td>0</td>\n",
       "    </tr>\n",
       "    <tr>\n",
       "      <th>1</th>\n",
       "      <td>0.034471</td>\n",
       "      <td>0.488179</td>\n",
       "      <td>1</td>\n",
       "    </tr>\n",
       "    <tr>\n",
       "      <th>2</th>\n",
       "      <td>-0.691630</td>\n",
       "      <td>-0.598746</td>\n",
       "      <td>2</td>\n",
       "    </tr>\n",
       "    <tr>\n",
       "      <th>3</th>\n",
       "      <td>-0.641773</td>\n",
       "      <td>-0.154483</td>\n",
       "      <td>2</td>\n",
       "    </tr>\n",
       "    <tr>\n",
       "      <th>4</th>\n",
       "      <td>0.458963</td>\n",
       "      <td>0.264534</td>\n",
       "      <td>1</td>\n",
       "    </tr>\n",
       "    <tr>\n",
       "      <th>...</th>\n",
       "      <td>...</td>\n",
       "      <td>...</td>\n",
       "      <td>...</td>\n",
       "    </tr>\n",
       "    <tr>\n",
       "      <th>119</th>\n",
       "      <td>-0.135170</td>\n",
       "      <td>0.506161</td>\n",
       "      <td>1</td>\n",
       "    </tr>\n",
       "    <tr>\n",
       "      <th>120</th>\n",
       "      <td>0.139744</td>\n",
       "      <td>0.429037</td>\n",
       "      <td>1</td>\n",
       "    </tr>\n",
       "    <tr>\n",
       "      <th>121</th>\n",
       "      <td>0.007530</td>\n",
       "      <td>0.497177</td>\n",
       "      <td>1</td>\n",
       "    </tr>\n",
       "    <tr>\n",
       "      <th>122</th>\n",
       "      <td>0.717056</td>\n",
       "      <td>-0.223658</td>\n",
       "      <td>0</td>\n",
       "    </tr>\n",
       "    <tr>\n",
       "      <th>123</th>\n",
       "      <td>-0.603838</td>\n",
       "      <td>-0.496360</td>\n",
       "      <td>2</td>\n",
       "    </tr>\n",
       "  </tbody>\n",
       "</table>\n",
       "<p>124 rows × 3 columns</p>\n",
       "</div>"
      ],
      "text/plain": [
       "        pca_1     pca_2  label\n",
       "0    0.660647  0.001073      0\n",
       "1    0.034471  0.488179      1\n",
       "2   -0.691630 -0.598746      2\n",
       "3   -0.641773 -0.154483      2\n",
       "4    0.458963  0.264534      1\n",
       "..        ...       ...    ...\n",
       "119 -0.135170  0.506161      1\n",
       "120  0.139744  0.429037      1\n",
       "121  0.007530  0.497177      1\n",
       "122  0.717056 -0.223658      0\n",
       "123 -0.603838 -0.496360      2\n",
       "\n",
       "[124 rows x 3 columns]"
      ]
     },
     "execution_count": 46,
     "metadata": {},
     "output_type": "execute_result"
    }
   ],
   "source": [
    "train_2d"
   ]
  },
  {
   "cell_type": "code",
   "execution_count": 68,
   "id": "7283de3d",
   "metadata": {},
   "outputs": [
    {
     "data": {
      "text/plain": [
       "<AxesSubplot:xlabel='proline', ylabel='Density'>"
      ]
     },
     "execution_count": 68,
     "metadata": {},
     "output_type": "execute_result"
    }
   ],
   "source": [
    "sns.scatterplot(x='pca_1' , y='pca_2' , hue='label' ,data=train_2d , palette='Set1')"
   ]
  },
  {
   "cell_type": "code",
   "execution_count": 60,
   "id": "0af0a918",
   "metadata": {},
   "outputs": [],
   "source": [
    "train['label'] = pred_km"
   ]
  },
  {
   "cell_type": "code",
   "execution_count": 61,
   "id": "15e560cf",
   "metadata": {},
   "outputs": [
    {
     "data": {
      "text/plain": [
       "<seaborn.axisgrid.PairGrid at 0x2329795f8e0>"
      ]
     },
     "execution_count": 61,
     "metadata": {},
     "output_type": "execute_result"
    }
   ],
   "source": [
    "sns.pairplot(train , hue='label',palette='Set1')"
   ]
  },
  {
   "cell_type": "code",
   "execution_count": null,
   "id": "78c7470d",
   "metadata": {},
   "outputs": [],
   "source": []
  },
  {
   "cell_type": "code",
   "execution_count": null,
   "id": "2513be4c",
   "metadata": {},
   "outputs": [],
   "source": []
  }
 ],
 "metadata": {
  "kernelspec": {
   "display_name": "Python 3 (ipykernel)",
   "language": "python",
   "name": "python3"
  },
  "language_info": {
   "codemirror_mode": {
    "name": "ipython",
    "version": 3
   },
   "file_extension": ".py",
   "mimetype": "text/x-python",
   "name": "python",
   "nbconvert_exporter": "python",
   "pygments_lexer": "ipython3",
   "version": "3.9.13"
  }
 },
 "nbformat": 4,
 "nbformat_minor": 5
}
