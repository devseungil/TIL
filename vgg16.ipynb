{
  "nbformat": 4,
  "nbformat_minor": 0,
  "metadata": {
    "colab": {
      "provenance": [],
      "authorship_tag": "ABX9TyM0uWDKcndhS3kTgKi6BYk0"
    },
    "kernelspec": {
      "name": "python3",
      "display_name": "Python 3"
    },
    "language_info": {
      "name": "python"
    },
    "accelerator": "GPU",
    "gpuClass": "standard"
  },
  "cells": [
    {
      "cell_type": "code",
      "execution_count": 1,
      "metadata": {
        "id": "ebZQbWCWy9R8"
      },
      "outputs": [],
      "source": [
        "from sklearn.model_selection import train_test_split\n",
        "from tensorflow.keras.datasets import cifar10\n",
        "import numpy as np"
      ]
    },
    {
      "cell_type": "code",
      "source": [
        "(x_train , y_train) , (x_test, y_test) = cifar10.load_data()"
      ],
      "metadata": {
        "colab": {
          "base_uri": "https://localhost:8080/"
        },
        "id": "LNK3Wlquy_kR",
        "outputId": "6eadbacf-ba0a-48a1-ee39-7fe4ffa179a3"
      },
      "execution_count": 2,
      "outputs": [
        {
          "output_type": "stream",
          "name": "stdout",
          "text": [
            "Downloading data from https://www.cs.toronto.edu/~kriz/cifar-10-python.tar.gz\n",
            "170498071/170498071 [==============================] - 3s 0us/step\n"
          ]
        }
      ]
    },
    {
      "cell_type": "code",
      "source": [
        "x_train.shape"
      ],
      "metadata": {
        "colab": {
          "base_uri": "https://localhost:8080/"
        },
        "id": "VqoXaz0NzkuL",
        "outputId": "c5143e1c-6626-4302-bde8-373ba5fe5eb3"
      },
      "execution_count": 3,
      "outputs": [
        {
          "output_type": "execute_result",
          "data": {
            "text/plain": [
              "(50000, 32, 32, 3)"
            ]
          },
          "metadata": {},
          "execution_count": 3
        }
      ]
    },
    {
      "cell_type": "code",
      "source": [
        "x_mean = np.mean(x_train , axis= (0,1,2))\n",
        "x_std = np.std(x_train , axis = (0,1,2))"
      ],
      "metadata": {
        "id": "MEb0mh6mzcJR"
      },
      "execution_count": 4,
      "outputs": []
    },
    {
      "cell_type": "code",
      "source": [
        "x_train , x_val , y_train , y_val = train_test_split(x_train , y_train , test_size=0.3 , random_state=777)\n"
      ],
      "metadata": {
        "id": "ZfajoUa5zvJB"
      },
      "execution_count": 6,
      "outputs": []
    },
    {
      "cell_type": "code",
      "source": [
        "y_train.shape"
      ],
      "metadata": {
        "colab": {
          "base_uri": "https://localhost:8080/"
        },
        "id": "CXcdQyHwzwJp",
        "outputId": "bfb0fa78-3279-40a1-dbd6-d82187d8f13d"
      },
      "execution_count": 7,
      "outputs": [
        {
          "output_type": "execute_result",
          "data": {
            "text/plain": [
              "(35000, 1)"
            ]
          },
          "metadata": {},
          "execution_count": 7
        }
      ]
    },
    {
      "cell_type": "code",
      "source": [
        "y_train = np.squeeze(y_train)\n",
        "y_val = np.squeeze(y_val)"
      ],
      "metadata": {
        "id": "25jrbKie0b35"
      },
      "execution_count": 8,
      "outputs": []
    },
    {
      "cell_type": "code",
      "source": [
        "y_train.shape"
      ],
      "metadata": {
        "colab": {
          "base_uri": "https://localhost:8080/"
        },
        "id": "WFpmOlg70hgp",
        "outputId": "0773bd62-ff7c-4a07-cdb6-063a00637c85"
      },
      "execution_count": 9,
      "outputs": [
        {
          "output_type": "execute_result",
          "data": {
            "text/plain": [
              "(35000,)"
            ]
          },
          "metadata": {},
          "execution_count": 9
        }
      ]
    },
    {
      "cell_type": "code",
      "source": [
        "from tensorflow.keras.preprocessing.image import ImageDataGenerator\n",
        "train_datagen = ImageDataGenerator(horizontal_flip = True ,\n",
        "                  zoom_range=0.2,\n",
        "                  width_shift_range=0.1,\n",
        "                  height_shift_range = 0.1,\n",
        "                  rotation_range = 30,\n",
        "                  fill_mode = 'nearest')\n",
        "\n",
        "val_datagen = ImageDataGenerator()\n",
        "batch_size = 32\n",
        "train_generator = train_datagen.flow(x_train , y_train , batch_size = batch_size)\n",
        "val_generator = val_datagen.flow(x_val , y_val , batch_size = batch_size)"
      ],
      "metadata": {
        "id": "yF3rSgYm0jRB"
      },
      "execution_count": 11,
      "outputs": []
    },
    {
      "cell_type": "code",
      "source": [
        "from tensorflow.keras.models import Sequential\n",
        "from tensorflow.keras.layers import Conv2D , MaxPool2D , Dense , Flatten , BatchNormalization , Activation\n",
        "from tensorflow.keras.optimizers import Adam\n",
        "from tensorflow.keras.applications import VGG16\n",
        "vgg16 = VGG16(weights = 'imagenet' , input_shape = (32,32,3) , include_top = False)\n",
        "vgg16.summary()"
      ],
      "metadata": {
        "colab": {
          "base_uri": "https://localhost:8080/"
        },
        "id": "W-yqSwxn0zB5",
        "outputId": "d0af34ee-c15e-464e-8fbf-efef39c9e1e6"
      },
      "execution_count": 12,
      "outputs": [
        {
          "output_type": "stream",
          "name": "stdout",
          "text": [
            "Downloading data from https://storage.googleapis.com/tensorflow/keras-applications/vgg16/vgg16_weights_tf_dim_ordering_tf_kernels_notop.h5\n",
            "58889256/58889256 [==============================] - 1s 0us/step\n",
            "Model: \"vgg16\"\n",
            "_________________________________________________________________\n",
            " Layer (type)                Output Shape              Param #   \n",
            "=================================================================\n",
            " input_1 (InputLayer)        [(None, 32, 32, 3)]       0         \n",
            "                                                                 \n",
            " block1_conv1 (Conv2D)       (None, 32, 32, 64)        1792      \n",
            "                                                                 \n",
            " block1_conv2 (Conv2D)       (None, 32, 32, 64)        36928     \n",
            "                                                                 \n",
            " block1_pool (MaxPooling2D)  (None, 16, 16, 64)        0         \n",
            "                                                                 \n",
            " block2_conv1 (Conv2D)       (None, 16, 16, 128)       73856     \n",
            "                                                                 \n",
            " block2_conv2 (Conv2D)       (None, 16, 16, 128)       147584    \n",
            "                                                                 \n",
            " block2_pool (MaxPooling2D)  (None, 8, 8, 128)         0         \n",
            "                                                                 \n",
            " block3_conv1 (Conv2D)       (None, 8, 8, 256)         295168    \n",
            "                                                                 \n",
            " block3_conv2 (Conv2D)       (None, 8, 8, 256)         590080    \n",
            "                                                                 \n",
            " block3_conv3 (Conv2D)       (None, 8, 8, 256)         590080    \n",
            "                                                                 \n",
            " block3_pool (MaxPooling2D)  (None, 4, 4, 256)         0         \n",
            "                                                                 \n",
            " block4_conv1 (Conv2D)       (None, 4, 4, 512)         1180160   \n",
            "                                                                 \n",
            " block4_conv2 (Conv2D)       (None, 4, 4, 512)         2359808   \n",
            "                                                                 \n",
            " block4_conv3 (Conv2D)       (None, 4, 4, 512)         2359808   \n",
            "                                                                 \n",
            " block4_pool (MaxPooling2D)  (None, 2, 2, 512)         0         \n",
            "                                                                 \n",
            " block5_conv1 (Conv2D)       (None, 2, 2, 512)         2359808   \n",
            "                                                                 \n",
            " block5_conv2 (Conv2D)       (None, 2, 2, 512)         2359808   \n",
            "                                                                 \n",
            " block5_conv3 (Conv2D)       (None, 2, 2, 512)         2359808   \n",
            "                                                                 \n",
            " block5_pool (MaxPooling2D)  (None, 1, 1, 512)         0         \n",
            "                                                                 \n",
            "=================================================================\n",
            "Total params: 14,714,688\n",
            "Trainable params: 14,714,688\n",
            "Non-trainable params: 0\n",
            "_________________________________________________________________\n"
          ]
        }
      ]
    },
    {
      "cell_type": "code",
      "source": [
        "model = Sequential()\n",
        "model.add(vgg16)\n",
        "model.add(Flatten())\n",
        "model.add(Dense(256))\n",
        "model.add(BatchNormalization())\n",
        "model.add(Activation('relu'))\n",
        "model.add(Dense(10, activation = 'softmax'))\n",
        "\n",
        "model.summary()"
      ],
      "metadata": {
        "colab": {
          "base_uri": "https://localhost:8080/"
        },
        "id": "C1-ZMrOm2Qz6",
        "outputId": "d3302791-13cb-4a3a-c298-db096ff27bf0"
      },
      "execution_count": 13,
      "outputs": [
        {
          "output_type": "stream",
          "name": "stdout",
          "text": [
            "Model: \"sequential\"\n",
            "_________________________________________________________________\n",
            " Layer (type)                Output Shape              Param #   \n",
            "=================================================================\n",
            " vgg16 (Functional)          (None, 1, 1, 512)         14714688  \n",
            "                                                                 \n",
            " flatten (Flatten)           (None, 512)               0         \n",
            "                                                                 \n",
            " dense (Dense)               (None, 256)               131328    \n",
            "                                                                 \n",
            " batch_normalization (BatchN  (None, 256)              1024      \n",
            " ormalization)                                                   \n",
            "                                                                 \n",
            " activation (Activation)     (None, 256)               0         \n",
            "                                                                 \n",
            " dense_1 (Dense)             (None, 10)                2570      \n",
            "                                                                 \n",
            "=================================================================\n",
            "Total params: 14,849,610\n",
            "Trainable params: 14,849,098\n",
            "Non-trainable params: 512\n",
            "_________________________________________________________________\n"
          ]
        }
      ]
    },
    {
      "cell_type": "code",
      "source": [
        "model.compile('adam' , 'sparse_categorical_crossentropy' , ['acc'])\n",
        "def get_step(train_len , batch_size):\n",
        "  if(train_len % batch_size > 0):\n",
        "    return train_len // batch_size + 1\n",
        "  else :\n",
        "    return train_len // batch_size\n",
        "history = model.fit(train_generator , epochs = 50 , steps_per_epoch=get_step(len(x_train), batch_size), validation_data=val_generator, validation_steps=get_step(len(x_val), batch_size))"
      ],
      "metadata": {
        "colab": {
          "base_uri": "https://localhost:8080/"
        },
        "id": "kcudkkhO2UXS",
        "outputId": "26d62fbf-1ba3-48e4-b242-b3040a6eaa5f"
      },
      "execution_count": 14,
      "outputs": [
        {
          "output_type": "stream",
          "name": "stdout",
          "text": [
            "Epoch 1/50\n",
            "1094/1094 [==============================] - 54s 36ms/step - loss: 1.9103 - acc: 0.2378 - val_loss: 2.1040 - val_acc: 0.2895\n",
            "Epoch 2/50\n",
            "1094/1094 [==============================] - 39s 36ms/step - loss: 1.6341 - acc: 0.3536 - val_loss: 1.8291 - val_acc: 0.3294\n",
            "Epoch 3/50\n",
            "1094/1094 [==============================] - 37s 34ms/step - loss: 1.4961 - acc: 0.4166 - val_loss: 1.4788 - val_acc: 0.4631\n",
            "Epoch 4/50\n",
            "1094/1094 [==============================] - 37s 34ms/step - loss: 1.3991 - acc: 0.4705 - val_loss: 1.6793 - val_acc: 0.4775\n",
            "Epoch 5/50\n",
            "1094/1094 [==============================] - 37s 34ms/step - loss: 1.2221 - acc: 0.5536 - val_loss: 1.7913 - val_acc: 0.4798\n",
            "Epoch 6/50\n",
            "1094/1094 [==============================] - 37s 34ms/step - loss: 1.0767 - acc: 0.6181 - val_loss: 0.9410 - val_acc: 0.6701\n",
            "Epoch 7/50\n",
            "1094/1094 [==============================] - 37s 34ms/step - loss: 0.9974 - acc: 0.6495 - val_loss: 0.8302 - val_acc: 0.7141\n",
            "Epoch 8/50\n",
            "1094/1094 [==============================] - 38s 34ms/step - loss: 0.9379 - acc: 0.6753 - val_loss: 0.7881 - val_acc: 0.7249\n",
            "Epoch 9/50\n",
            "1094/1094 [==============================] - 37s 34ms/step - loss: 0.8830 - acc: 0.6946 - val_loss: 0.7448 - val_acc: 0.7409\n",
            "Epoch 10/50\n",
            "1094/1094 [==============================] - 37s 34ms/step - loss: 0.8408 - acc: 0.7120 - val_loss: 0.7167 - val_acc: 0.7548\n",
            "Epoch 11/50\n",
            "1094/1094 [==============================] - 42s 38ms/step - loss: 0.8061 - acc: 0.7231 - val_loss: 0.9260 - val_acc: 0.6985\n",
            "Epoch 12/50\n",
            "1094/1094 [==============================] - 37s 34ms/step - loss: 0.7715 - acc: 0.7387 - val_loss: 0.6894 - val_acc: 0.7682\n",
            "Epoch 13/50\n",
            "1094/1094 [==============================] - 38s 35ms/step - loss: 0.7546 - acc: 0.7438 - val_loss: 0.6087 - val_acc: 0.7957\n",
            "Epoch 14/50\n",
            "1094/1094 [==============================] - 37s 34ms/step - loss: 0.7245 - acc: 0.7562 - val_loss: 0.9694 - val_acc: 0.7022\n",
            "Epoch 15/50\n",
            "1094/1094 [==============================] - 38s 34ms/step - loss: 0.7042 - acc: 0.7628 - val_loss: 0.6354 - val_acc: 0.7935\n",
            "Epoch 16/50\n",
            "1094/1094 [==============================] - 37s 34ms/step - loss: 0.6823 - acc: 0.7722 - val_loss: 0.5929 - val_acc: 0.8035\n",
            "Epoch 17/50\n",
            "1094/1094 [==============================] - 37s 34ms/step - loss: 0.6667 - acc: 0.7765 - val_loss: 0.6567 - val_acc: 0.7857\n",
            "Epoch 18/50\n",
            "1094/1094 [==============================] - 38s 35ms/step - loss: 0.6492 - acc: 0.7822 - val_loss: 0.9482 - val_acc: 0.7141\n",
            "Epoch 19/50\n",
            "1094/1094 [==============================] - 38s 35ms/step - loss: 0.6218 - acc: 0.7945 - val_loss: 0.5216 - val_acc: 0.8289\n",
            "Epoch 20/50\n",
            "1094/1094 [==============================] - 37s 34ms/step - loss: 0.6085 - acc: 0.7979 - val_loss: 0.5377 - val_acc: 0.8231\n",
            "Epoch 21/50\n",
            "1094/1094 [==============================] - 38s 34ms/step - loss: 0.5953 - acc: 0.8037 - val_loss: 0.5723 - val_acc: 0.8181\n",
            "Epoch 22/50\n",
            "1094/1094 [==============================] - 37s 34ms/step - loss: 0.5782 - acc: 0.8081 - val_loss: 0.5987 - val_acc: 0.8084\n",
            "Epoch 23/50\n",
            "1094/1094 [==============================] - 38s 34ms/step - loss: 0.5594 - acc: 0.8169 - val_loss: 0.5157 - val_acc: 0.8309\n",
            "Epoch 24/50\n",
            "1094/1094 [==============================] - 39s 36ms/step - loss: 0.5399 - acc: 0.8189 - val_loss: 0.5432 - val_acc: 0.8261\n",
            "Epoch 25/50\n",
            "1094/1094 [==============================] - 39s 36ms/step - loss: 0.5357 - acc: 0.8219 - val_loss: 0.5909 - val_acc: 0.8100\n",
            "Epoch 26/50\n",
            "1094/1094 [==============================] - 37s 34ms/step - loss: 0.5094 - acc: 0.8293 - val_loss: 0.5665 - val_acc: 0.8236\n",
            "Epoch 27/50\n",
            "1094/1094 [==============================] - 37s 34ms/step - loss: 0.5007 - acc: 0.8339 - val_loss: 0.5206 - val_acc: 0.8389\n",
            "Epoch 28/50\n",
            "1094/1094 [==============================] - 37s 34ms/step - loss: 0.4922 - acc: 0.8389 - val_loss: 0.5109 - val_acc: 0.8421\n",
            "Epoch 29/50\n",
            "1094/1094 [==============================] - 37s 34ms/step - loss: 0.4860 - acc: 0.8391 - val_loss: 0.5371 - val_acc: 0.8304\n",
            "Epoch 30/50\n",
            "1094/1094 [==============================] - 37s 34ms/step - loss: 0.4733 - acc: 0.8428 - val_loss: 0.4809 - val_acc: 0.8454\n",
            "Epoch 31/50\n",
            "1094/1094 [==============================] - 37s 34ms/step - loss: 0.4571 - acc: 0.8488 - val_loss: 0.5316 - val_acc: 0.8284\n",
            "Epoch 32/50\n",
            "1094/1094 [==============================] - 39s 35ms/step - loss: 0.4451 - acc: 0.8529 - val_loss: 0.4775 - val_acc: 0.8471\n",
            "Epoch 33/50\n",
            "1094/1094 [==============================] - 38s 34ms/step - loss: 0.4414 - acc: 0.8527 - val_loss: 0.4718 - val_acc: 0.8493\n",
            "Epoch 34/50\n",
            "1094/1094 [==============================] - 38s 34ms/step - loss: 0.4334 - acc: 0.8563 - val_loss: 0.6044 - val_acc: 0.8185\n",
            "Epoch 35/50\n",
            "1094/1094 [==============================] - 38s 35ms/step - loss: 0.4296 - acc: 0.8567 - val_loss: 0.5536 - val_acc: 0.8252\n",
            "Epoch 36/50\n",
            "1094/1094 [==============================] - 38s 35ms/step - loss: 0.4143 - acc: 0.8624 - val_loss: 0.4846 - val_acc: 0.8439\n",
            "Epoch 37/50\n",
            "1094/1094 [==============================] - 38s 35ms/step - loss: 0.4046 - acc: 0.8644 - val_loss: 0.5161 - val_acc: 0.8455\n",
            "Epoch 38/50\n",
            "1094/1094 [==============================] - 37s 34ms/step - loss: 0.3973 - acc: 0.8664 - val_loss: 0.4543 - val_acc: 0.8543\n",
            "Epoch 39/50\n",
            "1094/1094 [==============================] - 38s 34ms/step - loss: 0.3875 - acc: 0.8703 - val_loss: 0.4805 - val_acc: 0.8546\n",
            "Epoch 40/50\n",
            "1094/1094 [==============================] - 38s 34ms/step - loss: 0.3835 - acc: 0.8710 - val_loss: 0.5200 - val_acc: 0.8441\n",
            "Epoch 41/50\n",
            "1094/1094 [==============================] - 38s 35ms/step - loss: 0.3748 - acc: 0.8723 - val_loss: 0.5669 - val_acc: 0.8391\n",
            "Epoch 42/50\n",
            "1094/1094 [==============================] - 38s 35ms/step - loss: 0.3750 - acc: 0.8759 - val_loss: 0.4928 - val_acc: 0.8486\n",
            "Epoch 43/50\n",
            "1094/1094 [==============================] - 38s 35ms/step - loss: 0.3642 - acc: 0.8798 - val_loss: 0.6289 - val_acc: 0.8165\n",
            "Epoch 44/50\n",
            "1094/1094 [==============================] - 40s 37ms/step - loss: 0.3608 - acc: 0.8786 - val_loss: 0.4096 - val_acc: 0.8707\n",
            "Epoch 45/50\n",
            "1094/1094 [==============================] - 37s 34ms/step - loss: 0.3500 - acc: 0.8834 - val_loss: 0.5019 - val_acc: 0.8421\n",
            "Epoch 46/50\n",
            "1094/1094 [==============================] - 38s 34ms/step - loss: 0.3471 - acc: 0.8847 - val_loss: 0.4307 - val_acc: 0.8705\n",
            "Epoch 47/50\n",
            "1094/1094 [==============================] - 37s 34ms/step - loss: 0.3396 - acc: 0.8855 - val_loss: 0.4232 - val_acc: 0.8707\n",
            "Epoch 48/50\n",
            "1094/1094 [==============================] - 37s 34ms/step - loss: 0.3323 - acc: 0.8881 - val_loss: 0.4352 - val_acc: 0.8666\n",
            "Epoch 49/50\n",
            "1094/1094 [==============================] - 40s 37ms/step - loss: 0.3235 - acc: 0.8909 - val_loss: 0.4737 - val_acc: 0.8581\n",
            "Epoch 50/50\n",
            "1094/1094 [==============================] - 38s 35ms/step - loss: 0.3247 - acc: 0.8902 - val_loss: 0.5042 - val_acc: 0.8541\n"
          ]
        }
      ]
    },
    {
      "cell_type": "code",
      "source": [
        "import matplotlib.pyplot as plt\n",
        "loss = history.history['loss']\n",
        "val_loss = history.history['val_loss']\n",
        "\n",
        "epochs = range(1, len(loss)+1)\n",
        "fig = plt.figure(figsize = (10,5))\n",
        "\n",
        "ax1 = fig.add_subplot(1,2,1)\n",
        "ax1.plot(epochs, loss,  label = 'train_loss')\n",
        "ax1.plot(epochs, val_loss,  label = 'val_loss')\n",
        "ax1.set_title('train_val loss')\n",
        "ax1.set_xlabel('epochs')\n",
        "ax1.set_ylabel('loss')\n",
        "ax1.legend()\n",
        "\n",
        "acc = history.history['acc']\n",
        "val_acc = history.history['val_acc']\n",
        "\n",
        "ax2 = fig.add_subplot(1,2,2)\n",
        "ax2.plot(epochs, acc, color='blue', label = 'train_acc')\n",
        "ax2.plot(epochs, val_acc, color='orange' , label = 'val_acc')\n",
        "ax2.set_title('train_val acc')\n",
        "ax2.set_xlabel('epochs')\n",
        "ax2.set_ylabel('acc')\n",
        "ax2.legend()\n",
        "\n",
        "#plt.savefig('[13]VGG16_app(신승일).png')"
      ],
      "metadata": {
        "colab": {
          "base_uri": "https://localhost:8080/",
          "height": 368
        },
        "id": "DCM87yGL2UVa",
        "outputId": "01846429-c296-4dc4-cc89-e0c0f214d716"
      },
      "execution_count": 15,
      "outputs": [
        {
          "output_type": "execute_result",
          "data": {
            "text/plain": [
              "<matplotlib.legend.Legend at 0x7f344926d7f0>"
            ]
          },
          "metadata": {},
          "execution_count": 15
        },
        {
          "output_type": "display_data",
          "data": {
            "text/plain": [
              "<Figure size 720x360 with 2 Axes>"
            ],
            "image/png": "[encoded data removed]"
          },
          "metadata": {
            "needs_background": "light"
          }
        }
      ]
    },
    {
      "cell_type": "code",
      "source": [
        "plt.savefig('[13]VGG16_app(신승일).png')"
      ],
      "metadata": {
        "colab": {
          "base_uri": "https://localhost:8080/",
          "height": 35
        },
        "id": "ZhdCpUaK2UTR",
        "outputId": "b8117764-93dd-4e17-90e6-f189c18d8d0e"
      },
      "execution_count": 16,
      "outputs": [
        {
          "output_type": "display_data",
          "data": {
            "text/plain": [
              "<Figure size 432x288 with 0 Axes>"
            ]
          },
          "metadata": {}
        }
      ]
    },
    {
      "cell_type": "code",
      "source": [],
      "metadata": {
        "id": "Wu8snEPr_eHj"
      },
      "execution_count": null,
      "outputs": []
    }
  ]
}