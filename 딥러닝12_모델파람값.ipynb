{
 "cells": [
  {
   "cell_type": "raw",
   "id": "10c99a3a",
   "metadata": {},
   "source": [
    "<< 모델 객체 및 레이어 속성 : tf.keras.applications.VGG16 >>\n",
    "1) 이름으로 레이어 객체 리턴 : model.get_layer(name , index).name\n",
    "2) 인덱스로 레이어 객체 리턴 : model.get_layer(name , index) , model.layers[index]\n",
    "3) 레이어 객체의 속성 및 메소드 : tf.keras.layers.Layer 의 하위 클래스들을 확인\n",
    "4) 조건을 만족하는 레이어 오브젝트 리턴, 설정 값 변경\n",
    "5) 모델이나 레이어의 가중치(커널의 가중치) or 바이어스 등의 파라미터 값을 리턴받자\n",
    "   5-1 : 레이어 파라미터(가중치,바이어스) get_weights() , weight속성 , trainable_weights , non_trainable_weights\n",
    "     , kernel, bias속성\n",
    "   5-2: 모델 get_weights() , weight속성\n",
    "   5-3: CNN 필터(커널)의 가중치 및 시각화\n",
    "\n",
    "*전이 학습을 통해 사용자 모델을 만들고 콜백 핸들러 함수 및 객체를 통해서 튜닝을 할수있다.\n",
    "\n",
    "tf.keras.applications.vgg16.VGG16(\n",
    "    include_top=True,\n",
    "    weights='imagenet',\n",
    "    input_tensor=None,\n",
    "    input_shape=None,\n",
    "    pooling=None,\n",
    "    classes=1000,\n",
    "    classifier_activation='softmax' )\n",
    "    "
   ]
  },
  {
   "cell_type": "code",
   "execution_count": 3,
   "id": "5e9e965a",
   "metadata": {},
   "outputs": [],
   "source": [
    "import tensorflow as tf\n",
    "import numpy as np\n",
    "import pprint"
   ]
  },
  {
   "cell_type": "code",
   "execution_count": 141,
   "id": "e4516483",
   "metadata": {},
   "outputs": [],
   "source": [
    "#1-1 모델확인\n",
    "model = tf.keras.applications.VGG16(weights = None)"
   ]
  },
  {
   "cell_type": "code",
   "execution_count": 142,
   "id": "2b235d27",
   "metadata": {},
   "outputs": [
    {
     "name": "stdout",
     "output_type": "stream",
     "text": [
      "Model: \"vgg16\"\n",
      "_________________________________________________________________\n",
      " Layer (type)                Output Shape              Param #   \n",
      "=================================================================\n",
      " input_3 (InputLayer)        [(None, 224, 224, 3)]     0         \n",
      "                                                                 \n",
      " block1_conv1 (Conv2D)       (None, 224, 224, 64)      1792      \n",
      "                                                                 \n",
      " block1_conv2 (Conv2D)       (None, 224, 224, 64)      36928     \n",
      "                                                                 \n",
      " block1_pool (MaxPooling2D)  (None, 112, 112, 64)      0         \n",
      "                                                                 \n",
      " block2_conv1 (Conv2D)       (None, 112, 112, 128)     73856     \n",
      "                                                                 \n",
      " block2_conv2 (Conv2D)       (None, 112, 112, 128)     147584    \n",
      "                                                                 \n",
      " block2_pool (MaxPooling2D)  (None, 56, 56, 128)       0         \n",
      "                                                                 \n",
      " block3_conv1 (Conv2D)       (None, 56, 56, 256)       295168    \n",
      "                                                                 \n",
      " block3_conv2 (Conv2D)       (None, 56, 56, 256)       590080    \n",
      "                                                                 \n",
      " block3_conv3 (Conv2D)       (None, 56, 56, 256)       590080    \n",
      "                                                                 \n",
      " block3_pool (MaxPooling2D)  (None, 28, 28, 256)       0         \n",
      "                                                                 \n",
      " block4_conv1 (Conv2D)       (None, 28, 28, 512)       1180160   \n",
      "                                                                 \n",
      " block4_conv2 (Conv2D)       (None, 28, 28, 512)       2359808   \n",
      "                                                                 \n",
      " block4_conv3 (Conv2D)       (None, 28, 28, 512)       2359808   \n",
      "                                                                 \n",
      " block4_pool (MaxPooling2D)  (None, 14, 14, 512)       0         \n",
      "                                                                 \n",
      " block5_conv1 (Conv2D)       (None, 14, 14, 512)       2359808   \n",
      "                                                                 \n",
      " block5_conv2 (Conv2D)       (None, 14, 14, 512)       2359808   \n",
      "                                                                 \n",
      " block5_conv3 (Conv2D)       (None, 14, 14, 512)       2359808   \n",
      "                                                                 \n",
      " block5_pool (MaxPooling2D)  (None, 7, 7, 512)         0         \n",
      "                                                                 \n",
      " flatten (Flatten)           (None, 25088)             0         \n",
      "                                                                 \n",
      " fc1 (Dense)                 (None, 4096)              102764544 \n",
      "                                                                 \n",
      " fc2 (Dense)                 (None, 4096)              16781312  \n",
      "                                                                 \n",
      " predictions (Dense)         (None, 1000)              4097000   \n",
      "                                                                 \n",
      "=================================================================\n",
      "Total params: 138,357,544\n",
      "Trainable params: 138,357,544\n",
      "Non-trainable params: 0\n",
      "_________________________________________________________________\n"
     ]
    }
   ],
   "source": [
    "model.summary()"
   ]
  },
  {
   "cell_type": "code",
   "execution_count": 144,
   "id": "76c6e171",
   "metadata": {},
   "outputs": [
    {
     "name": "stdout",
     "output_type": "stream",
     "text": [
      "<keras.layers.convolutional.conv2d.Conv2D object at 0x0000020331317520>\n",
      "<class 'keras.layers.convolutional.conv2d.Conv2D'>\n"
     ]
    }
   ],
   "source": [
    "# 1-2 모델의 name을 지정해서 레이어 대상의 오브젝트를 get_layer() 로 리턴\n",
    "res = model.get_layer('block4_conv1')\n",
    "print(res)\n",
    "print(type(res))"
   ]
  },
  {
   "cell_type": "code",
   "execution_count": 14,
   "id": "54ca89b9",
   "metadata": {},
   "outputs": [
    {
     "name": "stdout",
     "output_type": "stream",
     "text": [
      "block1_pool\n"
     ]
    }
   ],
   "source": [
    "# 1-3 인덱스로 레이어 객체를 가지고 오자.\n",
    "res = model.get_layer(index = 3).name\n",
    "print(res)"
   ]
  },
  {
   "cell_type": "code",
   "execution_count": 18,
   "id": "e087db0f",
   "metadata": {},
   "outputs": [
    {
     "name": "stdout",
     "output_type": "stream",
     "text": [
      "[<keras.engine.input_layer.InputLayer object at 0x00000203255908E0>,\n",
      " <keras.layers.convolutional.conv2d.Conv2D object at 0x00000203311A0B20>,\n",
      " <keras.layers.convolutional.conv2d.Conv2D object at 0x0000020331192E50>,\n",
      " <keras.layers.pooling.max_pooling2d.MaxPooling2D object at 0x0000020325699FA0>,\n",
      " <keras.layers.convolutional.conv2d.Conv2D object at 0x0000020325569A60>,\n",
      " <keras.layers.convolutional.conv2d.Conv2D object at 0x0000020325581040>,\n",
      " <keras.layers.pooling.max_pooling2d.MaxPooling2D object at 0x00000203255CCE80>,\n",
      " <keras.layers.convolutional.conv2d.Conv2D object at 0x00000203255579A0>,\n",
      " <keras.layers.convolutional.conv2d.Conv2D object at 0x0000020325609940>,\n",
      " <keras.layers.convolutional.conv2d.Conv2D object at 0x00000203255F6CD0>,\n",
      " <keras.layers.pooling.max_pooling2d.MaxPooling2D object at 0x00000203312C1400>,\n",
      " <keras.layers.convolutional.conv2d.Conv2D object at 0x00000203311ADE50>,\n",
      " <keras.layers.convolutional.conv2d.Conv2D object at 0x00000203312CC160>,\n",
      " <keras.layers.convolutional.conv2d.Conv2D object at 0x00000203312CBA30>,\n",
      " <keras.layers.pooling.max_pooling2d.MaxPooling2D object at 0x00000203312CBAF0>,\n",
      " <keras.layers.convolutional.conv2d.Conv2D object at 0x00000203312CCB50>,\n",
      " <keras.layers.convolutional.conv2d.Conv2D object at 0x00000203312DE4C0>,\n",
      " <keras.layers.convolutional.conv2d.Conv2D object at 0x00000203312D9040>,\n",
      " <keras.layers.pooling.max_pooling2d.MaxPooling2D object at 0x00000203312EA1F0>,\n",
      " <keras.layers.reshaping.flatten.Flatten object at 0x00000203312E4340>,\n",
      " <keras.layers.core.dense.Dense object at 0x00000203312EA280>,\n",
      " <keras.layers.core.dense.Dense object at 0x00000203312E4EE0>,\n",
      " <keras.layers.core.dense.Dense object at 0x00000203312D99A0>]\n",
      "\n",
      "<keras.layers.convolutional.conv2d.Conv2D object at 0x00000203311ADE50>\n",
      "block4_conv1\n"
     ]
    }
   ],
   "source": [
    "# 1-5 model.layers를 이영해서 모델이 가진 레이어 객체의 목록을 보자\n",
    "pprint.pprint(model.layers)\n",
    "print()\n",
    "print(model.layers[11])\n",
    "print(model.layers[11].name)"
   ]
  },
  {
   "cell_type": "code",
   "execution_count": 19,
   "id": "5ce4d124",
   "metadata": {},
   "outputs": [
    {
     "name": "stdout",
     "output_type": "stream",
     "text": [
      "<keras.layers.convolutional.conv2d.Conv2D object at 0x00000203311A0B20>\n",
      "True\n"
     ]
    }
   ],
   "source": [
    "# 2 ) 레이어 객체의 속성 및 메소드를 확인\n",
    "# 2-1 레이어 인스턴스를 확인 해보자\n",
    "layer01 = model.get_layer(index=1)\n",
    "print(layer01)\n",
    "print(isinstance(layer01 , tf.keras.layers.Layer))"
   ]
  },
  {
   "cell_type": "code",
   "execution_count": 20,
   "id": "14ef39c6",
   "metadata": {},
   "outputs": [
    {
     "name": "stdout",
     "output_type": "stream",
     "text": [
      "block1_conv1\n",
      "1792\n"
     ]
    }
   ],
   "source": [
    "print(layer01.name)\n",
    "print(layer01.count_params())"
   ]
  },
  {
   "cell_type": "code",
   "execution_count": 23,
   "id": "1b7a3007",
   "metadata": {},
   "outputs": [
    {
     "name": "stdout",
     "output_type": "stream",
     "text": [
      "True\n",
      "False\n"
     ]
    }
   ],
   "source": [
    "# 2-3 trainable 속성으로 레이어를 학습 유무를 설정(학습에 의해 값을 갱신할까 말까)\n",
    "# 학습이 끝난 모델을 사용한 전이학습에 있어서 원하는 레이어만 학습유무를 지정할때 사용\n",
    "print(layer01.trainable)\n",
    "layer01.trainable = False\n",
    "print(layer01.trainable)"
   ]
  },
  {
   "cell_type": "code",
   "execution_count": 25,
   "id": "3c9bf37b",
   "metadata": {},
   "outputs": [
    {
     "name": "stdout",
     "output_type": "stream",
     "text": [
      "new_block1_conv1\n"
     ]
    }
   ],
   "source": [
    "# 2-4 레이어 이름을 변경 해보자\n",
    "\n",
    "layer01._name = 'new_block1_conv1'\n",
    "print(layer01._name)"
   ]
  },
  {
   "cell_type": "code",
   "execution_count": 26,
   "id": "24992cd3",
   "metadata": {},
   "outputs": [
    {
     "name": "stdout",
     "output_type": "stream",
     "text": [
      "Model: \"vgg16\"\n",
      "_________________________________________________________________\n",
      " Layer (type)                Output Shape              Param #   \n",
      "=================================================================\n",
      " input_1 (InputLayer)        [(None, 224, 224, 3)]     0         \n",
      "                                                                 \n",
      " new_block1_conv1 (Conv2D)   (None, 224, 224, 64)      1792      \n",
      "                                                                 \n",
      " block1_conv2 (Conv2D)       (None, 224, 224, 64)      36928     \n",
      "                                                                 \n",
      " block1_pool (MaxPooling2D)  (None, 112, 112, 64)      0         \n",
      "                                                                 \n",
      " block2_conv1 (Conv2D)       (None, 112, 112, 128)     73856     \n",
      "                                                                 \n",
      " block2_conv2 (Conv2D)       (None, 112, 112, 128)     147584    \n",
      "                                                                 \n",
      " block2_pool (MaxPooling2D)  (None, 56, 56, 128)       0         \n",
      "                                                                 \n",
      " block3_conv1 (Conv2D)       (None, 56, 56, 256)       295168    \n",
      "                                                                 \n",
      " block3_conv2 (Conv2D)       (None, 56, 56, 256)       590080    \n",
      "                                                                 \n",
      " block3_conv3 (Conv2D)       (None, 56, 56, 256)       590080    \n",
      "                                                                 \n",
      " block3_pool (MaxPooling2D)  (None, 28, 28, 256)       0         \n",
      "                                                                 \n",
      " block4_conv1 (Conv2D)       (None, 28, 28, 512)       1180160   \n",
      "                                                                 \n",
      " block4_conv2 (Conv2D)       (None, 28, 28, 512)       2359808   \n",
      "                                                                 \n",
      " block4_conv3 (Conv2D)       (None, 28, 28, 512)       2359808   \n",
      "                                                                 \n",
      " block4_pool (MaxPooling2D)  (None, 14, 14, 512)       0         \n",
      "                                                                 \n",
      " block5_conv1 (Conv2D)       (None, 14, 14, 512)       2359808   \n",
      "                                                                 \n",
      " block5_conv2 (Conv2D)       (None, 14, 14, 512)       2359808   \n",
      "                                                                 \n",
      " block5_conv3 (Conv2D)       (None, 14, 14, 512)       2359808   \n",
      "                                                                 \n",
      " block5_pool (MaxPooling2D)  (None, 7, 7, 512)         0         \n",
      "                                                                 \n",
      " flatten (Flatten)           (None, 25088)             0         \n",
      "                                                                 \n",
      " fc1 (Dense)                 (None, 4096)              102764544 \n",
      "                                                                 \n",
      " fc2 (Dense)                 (None, 4096)              16781312  \n",
      "                                                                 \n",
      " predictions (Dense)         (None, 1000)              4097000   \n",
      "                                                                 \n",
      "=================================================================\n",
      "Total params: 138,357,544\n",
      "Trainable params: 138,355,752\n",
      "Non-trainable params: 1,792\n",
      "_________________________________________________________________\n"
     ]
    }
   ],
   "source": [
    "model.summary() #이름 변경됨"
   ]
  },
  {
   "cell_type": "code",
   "execution_count": 116,
   "id": "288c229a",
   "metadata": {},
   "outputs": [
    {
     "name": "stdout",
     "output_type": "stream",
     "text": [
      "[<keras.layers.reshaping.zero_padding2d.ZeroPadding2D object at 0x0000020336B11BE0>,\n",
      " <keras.layers.pooling.max_pooling2d.MaxPooling2D object at 0x0000020336B15880>,\n",
      " <keras.layers.pooling.global_average_pooling2d.GlobalAveragePooling2D object at 0x00000203390CD580>]\n"
     ]
    }
   ],
   "source": [
    "# 3 조건을 만족하는 레이어 오브젝트 취득, 설정, 변경\n",
    "# 3-1 리스트 객체를 사용\n",
    "my_pool = [l for l in model.layers if 'pool' in l.name]\n",
    "pprint.pprint(my_pool)"
   ]
  },
  {
   "cell_type": "code",
   "execution_count": 119,
   "id": "260afe19",
   "metadata": {},
   "outputs": [
    {
     "name": "stdout",
     "output_type": "stream",
     "text": [
      "[<keras.layers.pooling.max_pooling2d.MaxPooling2D object at 0x0000020336B15880>]\n"
     ]
    }
   ],
   "source": [
    "# 3-2 클래스를 지정해서 추출\n",
    "my_pool = [l for l in model.layers if isinstance(l, tf.keras.layers.MaxPool2D)]\n",
    "pprint.pprint(my_pool)"
   ]
  },
  {
   "cell_type": "code",
   "execution_count": 35,
   "id": "bff21b97",
   "metadata": {},
   "outputs": [
    {
     "name": "stdout",
     "output_type": "stream",
     "text": [
      "[<keras.layers.pooling.max_pooling2d.MaxPooling2D object at 0x0000020325699FA0>,\n",
      " <keras.layers.pooling.max_pooling2d.MaxPooling2D object at 0x00000203255CCE80>,\n",
      " <keras.layers.pooling.max_pooling2d.MaxPooling2D object at 0x00000203312C1400>,\n",
      " <keras.layers.pooling.max_pooling2d.MaxPooling2D object at 0x00000203312CBAF0>,\n",
      " <keras.layers.pooling.max_pooling2d.MaxPooling2D object at 0x00000203312EA1F0>,\n",
      " <keras.layers.core.dense.Dense object at 0x00000203312EA280>,\n",
      " <keras.layers.core.dense.Dense object at 0x00000203312E4EE0>,\n",
      " <keras.layers.core.dense.Dense object at 0x00000203312D99A0>]\n"
     ]
    }
   ],
   "source": [
    "# 3-3 레이어의 정류를 클래스 여러개\n",
    "my_pool = [l for l in model.layers if isinstance(l, (tf.keras.layers.MaxPooling2D , tf.keras.layers.Dense))]\n",
    "pprint.pprint(my_pool)"
   ]
  },
  {
   "cell_type": "code",
   "execution_count": 112,
   "id": "8f6056b3",
   "metadata": {},
   "outputs": [
    {
     "name": "stdout",
     "output_type": "stream",
     "text": [
      "[<keras.layers.normalization.batch_normalization.BatchNormalization object at 0x0000020336A87370>,\n",
      " <keras.layers.merging.add.Add object at 0x0000020339089F40>,\n",
      " <keras.layers.core.activation.Activation object at 0x00000203390E4C40>,\n",
      " <keras.layers.pooling.global_average_pooling2d.GlobalAveragePooling2D object at 0x00000203390CD580>,\n",
      " <keras.layers.core.dense.Dense object at 0x00000203390EBEE0>]\n"
     ]
    }
   ],
   "source": [
    "# 3-4 범위를 지정\n",
    "my_tail = model.layers[-5:]\n",
    "pprint.pprint(my_tail)"
   ]
  },
  {
   "cell_type": "code",
   "execution_count": null,
   "id": "69d60dff",
   "metadata": {},
   "outputs": [],
   "source": [
    "# 3-5 원하는 모델 레이어의 학습 속성을 일괄적으로 변경하고싶다\n",
    "for l in model.layers :\n",
    "    if isinstance(l , tf.keras.layers.Dense) :\n",
    "        l.trainable = False"
   ]
  },
  {
   "cell_type": "code",
   "execution_count": null,
   "id": "0322a6fe",
   "metadata": {},
   "outputs": [],
   "source": [
    "# 3-6 끝에서 5개의 레이어 속성 변경\n",
    "for l in model.layer[-5:]:\n",
    "    l.trainable = False"
   ]
  },
  {
   "cell_type": "code",
   "execution_count": 38,
   "id": "0e6384e0",
   "metadata": {},
   "outputs": [],
   "source": [
    "from keras.models import Sequential\n",
    "from keras.layers import Conv2D, MaxPool2D , Dense, Flatten , Activation , BatchNormalization"
   ]
  },
  {
   "cell_type": "code",
   "execution_count": 124,
   "id": "5f879150",
   "metadata": {},
   "outputs": [
    {
     "name": "stdout",
     "output_type": "stream",
     "text": [
      "Model: \"sequential_14\"\n",
      "_________________________________________________________________\n",
      " Layer (type)                Output Shape              Param #   \n",
      "=================================================================\n",
      " L0_conv2d (Conv2D)          (None, 10, 10, 1)         10        \n",
      "                                                                 \n",
      " L1_flatten (Flatten)        (None, 100)               0         \n",
      "                                                                 \n",
      " L2_dense (Dense)            (None, 10)                1000      \n",
      "                                                                 \n",
      " L3_dense (Dense)            (None, 1)                 11        \n",
      "                                                                 \n",
      " batch_normalization_2 (Batc  (None, 1)                4         \n",
      " hNormalization)                                                 \n",
      "                                                                 \n",
      "=================================================================\n",
      "Total params: 1,025\n",
      "Trainable params: 1,023\n",
      "Non-trainable params: 2\n",
      "_________________________________________________________________\n"
     ]
    }
   ],
   "source": [
    "#4 임의의 모델을 선언\n",
    "model = Sequential()\n",
    "model.add(Conv2D(1, (3,3) , padding='same' , input_shape = (10,10,1) , name = 'L0_conv2d'))\n",
    "model.add(Flatten(name = 'L1_flatten'))\n",
    "model.add(Dense(10 , name = 'L2_dense' , use_bias = False))\n",
    "model.add(Dense(1, name = 'L3_dense'))\n",
    "model.add(BatchNormalization())\n",
    "model.summary()\n"
   ]
  },
  {
   "cell_type": "code",
   "execution_count": 140,
   "id": "67f2949e",
   "metadata": {},
   "outputs": [
    {
     "name": "stdout",
     "output_type": "stream",
     "text": [
      "<class 'list'> 2\n",
      "가중치 : [[-0.23884675]\n",
      " [ 0.21185541]\n",
      " [-0.14022571]\n",
      " [ 0.57029575]\n",
      " [-0.64723945]\n",
      " [-0.278065  ]\n",
      " [ 0.22752929]\n",
      " [ 0.338903  ]\n",
      " [-0.22670221]\n",
      " [ 0.4547258 ]]\n",
      "바이어스 : [0.]\n",
      "<tf.Variable 'L3_dense/kernel:0' shape=(10, 1) dtype=float32, numpy=\n",
      "array([[-0.23884675],\n",
      "       [ 0.21185541],\n",
      "       [-0.14022571],\n",
      "       [ 0.57029575],\n",
      "       [-0.64723945],\n",
      "       [-0.278065  ],\n",
      "       [ 0.22752929],\n",
      "       [ 0.338903  ],\n",
      "       [-0.22670221],\n",
      "       [ 0.4547258 ]], dtype=float32)>\n"
     ]
    }
   ],
   "source": [
    "# 5 모델의 레이어 파라미터 (가중치 , 바이어스) 리턴받자\n",
    "# 5-1 get_weights()\n",
    "layer02 = model.layers[3]\n",
    "print(type(layer02.get_weights()) , len(layer02.get_weights()))\n",
    "layer02.get_weights() # [커널의 가중치 , 바이어스 값] -> 가중치는 무작위 초기값을 가짐\n",
    "print(\"가중치 :\",layer02.get_weights()[0])\n",
    "print(\"바이어스 :\",layer02.get_weights()[1])\n",
    "print(layer02.weights[0])"
   ]
  },
  {
   "cell_type": "code",
   "execution_count": 55,
   "id": "37d972e5",
   "metadata": {},
   "outputs": [
    {
     "name": "stdout",
     "output_type": "stream",
     "text": [
      "L0_conv2d 의 요소수: 2\n",
      "L1_flatten 의 요소수: 0\n",
      "L2_dense 의 요소수: 1\n",
      "L3_dense 의 요소수: 2\n",
      "batch_normalization_1 의 요소수: 4\n"
     ]
    }
   ],
   "source": [
    "# 5-2 전체 레이어의 get_weights() 가 리턴하는 요소 수를 출력\n",
    "for l in model.layers :\n",
    "    print(l.name ,\"의 요소수:\", len(l.get_weights()))"
   ]
  },
  {
   "cell_type": "code",
   "execution_count": 63,
   "id": "16100afa",
   "metadata": {},
   "outputs": [
    {
     "name": "stdout",
     "output_type": "stream",
     "text": [
      "<tf.Variable 'L3_dense/kernel:0' shape=(10, 1) dtype=float32, numpy=\n",
      "array([[ 0.15490037],\n",
      "       [ 0.01941764],\n",
      "       [-0.14712173],\n",
      "       [-0.08786052],\n",
      "       [ 0.16107106],\n",
      "       [-0.34801674],\n",
      "       [ 0.26887912],\n",
      "       [ 0.39728254],\n",
      "       [ 0.6784658 ],\n",
      "       [ 0.40322536]], dtype=float32)>\n",
      "\n",
      "L3_dense/kernel:0\n",
      "(10, 1)\n",
      "L3_dense/bias:0\n",
      "(1,)\n"
     ]
    }
   ],
   "source": [
    "# 5-3\n",
    "print(layer02.weights[0])\n",
    "print()\n",
    "print(layer02.weights[0].name)\n",
    "print(layer02.weights[0].shape)\n",
    "print(layer02.weights[1].name)\n",
    "print(layer02.weights[1].shape)"
   ]
  },
  {
   "cell_type": "code",
   "execution_count": 68,
   "id": "f043a633",
   "metadata": {},
   "outputs": [
    {
     "name": "stdout",
     "output_type": "stream",
     "text": [
      "L0_conv2d/kernel:0 \t (3, 3, 1, 1)\n",
      "L0_conv2d/bias:0 \t (1,)\n",
      "L2_dense/kernel:0 \t (100, 10)\n",
      "L3_dense/kernel:0 \t (10, 1)\n",
      "L3_dense/bias:0 \t (1,)\n",
      "batch_normalization_1/gamma:0 \t (1,)\n",
      "batch_normalization_1/beta:0 \t (1,)\n",
      "batch_normalization_1/moving_mean:0 \t (1,)\n",
      "batch_normalization_1/moving_variance:0 \t (1,)\n"
     ]
    }
   ],
   "source": [
    "# 5-4 전체 레이어 weight 속성 각 레이어의 커널과 바이어스 리턴\n",
    "for i in model.layers :\n",
    "    for w in i.weights :\n",
    "        print(f\"{w.name} \\t {w.shape}\")"
   ]
  },
  {
   "cell_type": "code",
   "execution_count": 74,
   "id": "5f5baa8c",
   "metadata": {},
   "outputs": [
    {
     "name": "stdout",
     "output_type": "stream",
     "text": [
      "Model: \"sequential_13\"\n",
      "_________________________________________________________________\n",
      " Layer (type)                Output Shape              Param #   \n",
      "=================================================================\n",
      " sequential_12 (Sequential)  (None, 10)                101110    \n",
      "                                                                 \n",
      " l_out_01 (Dense)            (None, 1)                 11        \n",
      "                                                                 \n",
      "=================================================================\n",
      "Total params: 101,121\n",
      "Trainable params: 101,121\n",
      "Non-trainable params: 0\n",
      "_________________________________________________________________\n",
      "Model: \"sequential_12\"\n",
      "_________________________________________________________________\n",
      " Layer (type)                Output Shape              Param #   \n",
      "=================================================================\n",
      " l_in_00 (Dense)             (None, 100)               100100    \n",
      "                                                                 \n",
      " l_in_01 (Dense)             (None, 10)                1010      \n",
      "                                                                 \n",
      "=================================================================\n",
      "Total params: 101,110\n",
      "Trainable params: 101,110\n",
      "Non-trainable params: 0\n",
      "_________________________________________________________________\n",
      "6 6\n",
      "l_in_00/kernel:0 (1000, 100)\n",
      "l_in_00/bias:0 (100,)\n",
      "l_in_01/kernel:0 (100, 10)\n",
      "l_in_01/bias:0 (10,)\n",
      "l_out_01/kernel:0 (10, 1)\n",
      "l_out_01/bias:0 (1,)\n"
     ]
    }
   ],
   "source": [
    "# 11 중첩모델 확인 : 모든 모델은 레이어의 하위 클래스이기 때문에 모델의 하나의 레이어로 선언할수있다\n",
    "\n",
    "inner_model = tf.keras.Sequential([\n",
    "    tf.keras.layers.Dense(100, name = 'l_in_00' , input_shape=(1000,)),\n",
    "    tf.keras.layers.Dense(10, name = 'l_in_01')\n",
    "])\n",
    "\n",
    "out_model = tf.keras.Sequential([\n",
    "    inner_model, tf.keras.layers.Dense(1, name = 'l_out_01')\n",
    "])\n",
    "\n",
    "out_model.summary()\n",
    "out_model.layers[0].summary()\n",
    "\n",
    "print(len(out_model.weights) , len(out_model.get_weights()))\n",
    "\n",
    "for r in out_model.weights:\n",
    "    print(r.name , r.shape)"
   ]
  },
  {
   "cell_type": "code",
   "execution_count": 75,
   "id": "e2a7d0bc",
   "metadata": {},
   "outputs": [
    {
     "name": "stdout",
     "output_type": "stream",
     "text": [
      "Downloading data from https://storage.googleapis.com/tensorflow/keras-applications/resnet/resnet50_weights_tf_dim_ordering_tf_kernels.h5\n",
      "102967424/102967424 [==============================] - 10s 0us/step\n"
     ]
    }
   ],
   "source": [
    "# 12 이미지의 레이어 필터 7*7 ResNet - > ResNet50을 살펴보자\n",
    "from PIL import Image\n",
    "import skimage.util #이미지 연결\n",
    "\n",
    "model = tf.keras.applications.ResNet50()"
   ]
  },
  {
   "cell_type": "code",
   "execution_count": 107,
   "id": "70969632",
   "metadata": {},
   "outputs": [
    {
     "name": "stdout",
     "output_type": "stream",
     "text": [
      "<class 'numpy.ndarray'>\n",
      "(7, 7, 3, 64)\n"
     ]
    }
   ],
   "source": [
    "# 12-1 레이어 정보 확인\n",
    "# model.summary()\n",
    "wres = model.get_layer('conv1_conv').kernel.numpy()\n",
    "print(type(wres))\n",
    "print(wres.shape) # 크기가 7 * 7 인 3개의 채널(RGB)의 필터가 64개 있다 (컨볼루젼)"
   ]
  },
  {
   "cell_type": "code",
   "execution_count": 109,
   "id": "e24e3cca",
   "metadata": {},
   "outputs": [
    {
     "name": "stdout",
     "output_type": "stream",
     "text": [
      "-0.6710244 0.70432377\n",
      "0 255\n",
      "(64, 7, 7, 3)\n"
     ]
    },
    {
     "name": "stderr",
     "output_type": "stream",
     "text": [
      "C:\\Users\\User\\AppData\\Local\\Temp\\ipykernel_15376\\2646341405.py:10: FutureWarning: `multichannel` is a deprecated argument name for `montage`. It will be removed in version 1.0. Please use `channel_axis` instead.\n",
      "  w_montage = skimage.util.montage(w_transpose,multichannel = True)\n"
     ]
    }
   ],
   "source": [
    "# 12-2 캐스팅 작업 : 이미지 0 ~ 255 uint8로 변환하자 \n",
    "print(wres.min() , wres.max())\n",
    "\n",
    "wres_scale = ((wres - wres.min()) / (wres.max() - wres.min())  * 255).astype('uint8')\n",
    "print(wres_scale.min() , wres_scale.max())\n",
    "\n",
    "w_transpose = wres_scale.transpose(3,0,1,2)\n",
    "print(w_transpose.shape)\n",
    "\n",
    "w_montage = skimage.util.montage(w_transpose,multichannel = True)\n",
    "# w_montage.shape\n",
    "\n",
    "pil_img = Image.fromarray(w_montage)\n",
    "pil_img.save('resnet50_conv1.png')"
   ]
  },
  {
   "cell_type": "code",
   "execution_count": 111,
   "id": "3b4eeac2",
   "metadata": {},
   "outputs": [
    {
     "name": "stdout",
     "output_type": "stream",
     "text": [
      "<class 'numpy.ndarray'>\n",
      "(3, 3, 128, 128)\n",
      "-0.38369384 0.37667438\n",
      "0 255\n",
      "(16384, 3, 3)\n",
      "177\n"
     ]
    },
    {
     "name": "stderr",
     "output_type": "stream",
     "text": [
      "C:\\Users\\User\\AppData\\Local\\Temp\\ipykernel_15376\\1413174403.py:15: FutureWarning: `multichannel` is a deprecated argument name for `montage`. It will be removed in version 1.0. Please use `channel_axis` instead.\n",
      "  w_montage = skimage.util.montage(w,multichannel = False)\n"
     ]
    }
   ],
   "source": [
    "# 13 다른 레이어를 가져다가 살펴보자\n",
    "#model.summary()\n",
    "wres = model.get_layer('conv3_block1_2_conv').kernel.numpy()\n",
    "print(type(wres))\n",
    "print(wres.shape) # 크기가 7 * 7 인 3개의 채널(RGB)의 필터가 64개 있다 (컨볼루젼)\n",
    "\n",
    "print(wres.min() , wres.max())\n",
    "\n",
    "wres_scale = ((wres - wres.min()) / (wres.max() - wres.min()) *255 ).astype('uint8')\n",
    "print(wres_scale.min() , wres_scale.max())\n",
    "\n",
    "w = wres_scale.reshape(3,3,128*128).transpose(2,0,1)\n",
    "print(w.shape)\n",
    "\n",
    "w_montage = skimage.util.montage(w,multichannel = False)\n",
    "# w_montage.shape\n",
    "\n",
    "pil_img = Image.fromarray(w_montage)\n",
    "pil_img.save('conv3_block1_2_conv.png')\n",
    "print(len(model.layers))"
   ]
  },
  {
   "cell_type": "code",
   "execution_count": 2,
   "id": "057b511e",
   "metadata": {},
   "outputs": [
    {
     "data": {
      "text/plain": [
       "[1, 2, 3, 4, 5]"
      ]
     },
     "execution_count": 2,
     "metadata": {},
     "output_type": "execute_result"
    }
   ],
   "source": [
    "a = [1,2,3,4,5,6,7,8,9]\n",
    "a[:-4]"
   ]
  },
  {
   "cell_type": "code",
   "execution_count": null,
   "id": "76820bae",
   "metadata": {},
   "outputs": [],
   "source": []
  }
 ],
 "metadata": {
  "kernelspec": {
   "display_name": "Python 3 (ipykernel)",
   "language": "python",
   "name": "python3"
  },
  "language_info": {
   "codemirror_mode": {
    "name": "ipython",
    "version": 3
   },
   "file_extension": ".py",
   "mimetype": "text/x-python",
   "name": "python",
   "nbconvert_exporter": "python",
   "pygments_lexer": "ipython3",
   "version": "3.9.13"
  }
 },
 "nbformat": 4,
 "nbformat_minor": 5
}
